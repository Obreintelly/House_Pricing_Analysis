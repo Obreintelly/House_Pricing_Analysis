{
  "nbformat": 4,
  "nbformat_minor": 0,
  "metadata": {
    "colab": {
      "name": "Real_Estate_Pricing_Analysis.ipynb",
      "provenance": [],
      "authorship_tag": "ABX9TyMQjDHsKun8nWe2arPUimu8",
      "include_colab_link": true
    },
    "kernelspec": {
      "name": "python3",
      "display_name": "Python 3"
    },
    "language_info": {
      "name": "python"
    }
  },
  "cells": [
    {
      "cell_type": "markdown",
      "metadata": {
        "id": "view-in-github",
        "colab_type": "text"
      },
      "source": [
        "<a href=\"https://colab.research.google.com/github/Obreintelly/House_Pricing_Analysis/blob/main/Real_Estate_Pricing_Analysis.ipynb\" target=\"_parent\"><img src=\"https://colab.research.google.com/assets/colab-badge.svg\" alt=\"Open In Colab\"/></a>"
      ]
    },
    {
      "cell_type": "code",
      "metadata": {
        "id": "2grdyT85Oa8N"
      },
      "source": [
        "#Importing Pandas library\n",
        "import pandas as pd\n",
        "\n",
        "#Importing Numpy Library\n",
        "import numpy as np\n",
        "\n",
        "#Importing Matplotlib Library\n",
        "\n",
        "import matplotlib.pyplot as plt\n",
        "\n",
        "#Importing Seaborn Library\n",
        "\n",
        "import seaborn as sns\n",
        "\n",
        "#Importing Scipy\n",
        "import scipy\n",
        "#Importing SKLearn\n",
        "import sklearn"
      ],
      "execution_count": 1,
      "outputs": []
    },
    {
      "cell_type": "code",
      "metadata": {
        "id": "abFLqny3PLN6"
      },
      "source": [
        ""
      ],
      "execution_count": null,
      "outputs": []
    }
  ]
}